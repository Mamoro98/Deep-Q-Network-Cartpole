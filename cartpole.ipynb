{
 "cells": [
  {
   "cell_type": "markdown",
   "metadata": {
    "id": "m2s4kN_QPQVe"
   },
   "source": [
    "# **Deep Q-Networks (DQN) **\n",
    "\n",
    "\n",
    "\n",
    "<hr>\n",
    "\n",
    "### **Part 6**: Reinforcement Learning (from Zero to One)\n",
    "\n",
    "*African Institute for Mathematical Sciences (AIMS), South Africa\n",
    "11 November, 2024*\n",
    "\n",
    "**Arnu Pretorius** - Staff Research Scientist, InstaDeep\n",
    "\n",
    "*Credits*: Adapted from Deep Learning Indaba 2022. Apache License 2.0.\n"
   ]
  },
  {
   "cell_type": "markdown",
   "metadata": {
    "id": "6EqhIg1odqg0"
   },
   "source": [
    "## Setup"
   ]
  },
  {
   "cell_type": "code",
   "execution_count": 1,
   "metadata": {
    "id": "4boGA9rYdt9l"
   },
   "outputs": [],
   "source": [
    "# @title Install required packages (run me) { display-mode: \"form\" }\n",
    "# @markdown This may take a minute or two to complete.\n",
    "%%capture\n",
    "!sudo apt install swig\n",
    "!pip install jaxlib\n",
    "!pip install jax\n",
    "!pip install git+https://github.com/deepmind/dm-haiku\n",
    "!pip install gym\n",
    "!pip install gym[box2d]\n",
    "!pip install optax\n",
    "!pip install matplotlib\n",
    "!pip install chex"
   ]
  },
  {
   "cell_type": "code",
   "execution_count": 2,
   "metadata": {
    "id": "gwbqggmcRjMy"
   },
   "outputs": [],
   "source": [
    "# @title Import required packages (run me) { display-mode: \"form\" }\n",
    "%%capture\n",
    "import copy\n",
    "from shutil import rmtree # deleting directories\n",
    "import random\n",
    "import collections # useful data structures\n",
    "import numpy as np\n",
    "import gym # reinforcement learning environments\n",
    "from gym.wrappers import RecordVideo\n",
    "import jax\n",
    "import jax.numpy as jnp # jax numpy\n",
    "import haiku as hk # jax neural network library\n",
    "import optax # jax optimizer library\n",
    "import matplotlib.pyplot as plt # graph plotting library\n",
    "from IPython.display import HTML\n",
    "from base64 import b64encode\n",
    "import chex\n",
    "\n",
    "# Hide warnings\n",
    "import warnings\n",
    "warnings.filterwarnings('ignore')"
   ]
  },
  {
   "cell_type": "markdown",
   "metadata": {
    "id": "ioser_R5TOtp"
   },
   "source": [
    "### **Environment (warm-up)**\n",
    "\n",
    "We will begin by using the simple **CartPole** environment. In CartPole, the task is for the agent to learn to balance a pole for as long as possible by moving a cart *left* or *right*.\n",
    "\n",
    "<img src=\"https://miro.medium.com/max/600/1*v8KcdjfVGf39yvTpXDTCGQ.gif\" width=\"30%\" />\n",
    "\n",
    "- **State space**: The state of the environment is represented by four numbers; *angular position of the pole, angular velocity of the pole, position of the cart, velocity of the cart*.\n",
    "- **Action space**: There are only two actions; *left* and *right*. As such, the actions can be represented by integers $0$ and $1$.  \n",
    "- **Dynamics**: State transitions are deterministic and the agent receives a reward of `1` for every timestep the pole is still upright. If the pole falls over, the game is over and the agent receives no more reward. The game is also over after `500` timesteps, so the maximum reward the agent can collect is `500`.\n",
    "\n",
    "In CartPole, the environment is considered solved when the agent can reliably achieve an episode return of 500."
   ]
  },
  {
   "cell_type": "code",
   "execution_count": 3,
   "metadata": {
    "colab": {
     "base_uri": "https://localhost:8080/"
    },
    "id": "OJge4jtY9pkz",
    "outputId": "1667d942-b7d9-4d91-be74-0cc58b27a78b"
   },
   "outputs": [
    {
     "name": "stdout",
     "output_type": "stream",
     "text": [
      "Initial State:: [ 0.01286383  0.02823141 -0.01891194  0.01808579]\n",
      "Environment Obs Space Shape: (4,)\n",
      "Environment action space: Discrete(2)\n",
      "Number of actions: 2\n"
     ]
    }
   ],
   "source": [
    "# Create the environment\n",
    "env_name = \"CartPole-v1\"  # \"LunarLander-v2\" (for later...)\n",
    "env = gym.make(env_name)\n",
    "\n",
    "# Reset the environment\n",
    "s_0 = env.reset()\n",
    "print(\"Initial State::\", s_0)\n",
    "\n",
    "# Get environment obs space\n",
    "obs_shape = env.observation_space.shape\n",
    "print(\"Environment Obs Space Shape:\", obs_shape)\n",
    "\n",
    "# Get action space - e.g. discrete or continuous\n",
    "print(f\"Environment action space: {env.action_space}\")\n",
    "\n",
    "# Get num actions\n",
    "num_actions = env.action_space.n\n",
    "print(f\"Number of actions: {num_actions}\")"
   ]
  },
  {
   "cell_type": "markdown",
   "metadata": {
    "id": "D_HHzFTOc-Qr"
   },
   "source": [
    "## **Q-Learning**"
   ]
  },
  {
   "cell_type": "markdown",
   "metadata": {
    "id": "lF1nOZrUSzhE"
   },
   "source": [
    "\n",
    "In Q-learning the agent learns a function that approximates the **value** of state-action pairs. By *value* we mean the return you expect to receive if you start in a particular state $S_t$, take a particular action $A_t$, and then act according to a particular policy $\\pi$ forever after. The state-action value function of policy $\\pi$ is given by\n",
    "\n",
    "$Q_\\pi(s,a)=\\mathrm{E}_{\\pi}\\left[G_t \\mid S_t=s,\\ A_t=a\\right]$.\n",
    "\n",
    "We say that the value function $Q_\\pi(s,a)$ is the **optimal** value function if the policy $\\pi$ is an optimal policy. We denote the optimal value function as follows:\n",
    "\n",
    "$Q_\\ast(s,a)=\\max \\limits_\\pi \\  \\mathrm{E}_{\\pi}\\left[G_t \\mid S_t=s,\\ A_t=a\\right]$\n",
    "\n",
    "There is an important relationship between the optimal action $a_\\ast$ in a state $s$ and the optimal state-action value function $Q_\\ast$. Namely, the optimal action $a_\\ast$ in state $s$ is equal to the action that maximises the optimal state-action value function. This relationship naturally induces an optimal policy:\n",
    "\n",
    "$\\pi_\\ast(s)=\\arg \\max \\limits_a\\ Q_\\ast(s, a)$"
   ]
  },
  {
   "cell_type": "markdown",
   "metadata": {
    "id": "H2x2tqvZSihz"
   },
   "source": [
    "### **Greedy action selection**\n",
    "\n",
    "---\n",
    "> **For you!**\n",
    ">\n",
    "> Implement a greedy action selector. This should be a function that, given a vector of Q-values, returns the action with the largest Q-value.\n",
    "---\n",
    "\n",
    "**Useful methods:**\n",
    "*   `jnp.argmax` ([docs](https://jax.readthedocs.io/en/latest/_autosummary/jax.numpy.argmax.html)) [note from above we had `import jax.numpy as jnp`]"
   ]
  },
  {
   "cell_type": "code",
   "execution_count": 4,
   "metadata": {
    "id": "Nn9P1YdzTIDU"
   },
   "outputs": [],
   "source": [
    "# Implement a function takes q-values as input and returns the greedy_action\n",
    "def select_greedy_action(q_values):\n",
    "\n",
    "  # YOUR CODE\n",
    "  action = jnp.argmax(q_values)\n",
    "  # END YOUR CODE\n",
    "\n",
    "  return action"
   ]
  },
  {
   "cell_type": "code",
   "execution_count": 5,
   "metadata": {
    "colab": {
     "base_uri": "https://localhost:8080/"
    },
    "id": "ZBzLr_G7QKXR",
    "outputId": "e9610fab-8024-4653-cce4-dc043049ab07"
   },
   "outputs": [
    {
     "name": "stdout",
     "output_type": "stream",
     "text": [
      "Looks good!\n"
     ]
    }
   ],
   "source": [
    "# @title Check your implementation (run me) {display-mode: \"form\"}\n",
    "\n",
    "try:\n",
    "  q_values = jnp.array([1,1,3,4])\n",
    "  action = select_greedy_action(q_values)\n",
    "\n",
    "  if action != 3:\n",
    "    print(\"Oops! It seems your implementation is incorrect.\")\n",
    "  else:\n",
    "    print(\"Looks good!\")\n",
    "except Exception as e:\n",
    "  print(\"Oops! It seems you didn't implement anything?\")\n"
   ]
  },
  {
   "cell_type": "markdown",
   "metadata": {
    "id": "PFQUlqZ4ZyLp"
   },
   "source": [
    "### **Q-Network**\n",
    "In Q-learning, we parametrise the Q-function using a neural network $Q_\\phi$. We obtain a policy from the Q-network by always choosing the action with the *greatest* value:\n",
    "\n",
    "$\\hat{\\pi}_\\phi(s)=\\arg \\max \\limits_a\\ Q_{\\phi}(s, a)$\n",
    "\n",
    "We use a neural network to approximate this Q-function. The network will take an observation as input and then output a Q-value for each of the available actions. So in the case of CartPole, the output of the network will have size $2$."
   ]
  },
  {
   "cell_type": "code",
   "execution_count": 6,
   "metadata": {
    "id": "9wU1soJYZyLp"
   },
   "outputs": [],
   "source": [
    "def build_network(num_actions: int, layers=[20, 20]) -> hk.Transformed:\n",
    "  \"\"\"Factory for a simple MLP network for approximating Q-values.\"\"\"\n",
    "\n",
    "  def q_network(obs):\n",
    "    network = hk.Sequential(\n",
    "        [hk.Flatten(),\n",
    "         hk.nets.MLP(layers + [num_actions])])\n",
    "    return network(obs)\n",
    "\n",
    "  return hk.without_apply_rng(hk.transform(q_network))"
   ]
  },
  {
   "cell_type": "markdown",
   "metadata": {
    "id": "sUwG-4qTS1zx"
   },
   "source": [
    "Let's initialise our Q-network and get the initial parameters."
   ]
  },
  {
   "cell_type": "code",
   "execution_count": 7,
   "metadata": {
    "colab": {
     "base_uri": "https://localhost:8080/"
    },
    "id": "1uvq5n2cS9lu",
    "outputId": "4ab315e7-1447-478e-996d-d8120dbfc467"
   },
   "outputs": [
    {
     "name": "stdout",
     "output_type": "stream",
     "text": [
      "Q-Learning params: dict_keys(['mlp/~/linear_0', 'mlp/~/linear_1', 'mlp/~/linear_2'])\n"
     ]
    }
   ],
   "source": [
    "# Initialise Q-network\n",
    "Q_NETWORK = build_network(num_actions=num_actions, layers=[20, 20]) # two actions\n",
    "\n",
    "dummy_obs = jnp.zeros((1,*obs_shape), jnp.float32) # a dummy observation like the one in CartPole\n",
    "\n",
    "random_key = jax.random.PRNGKey(42) # random key\n",
    "Q_NETWORK_PARAMS = Q_NETWORK.init(random_key, dummy_obs) # Get initial params\n",
    "\n",
    "print(\"Q-Learning params:\", Q_NETWORK_PARAMS.keys())"
   ]
  },
  {
   "cell_type": "markdown",
   "metadata": {
    "id": "vbLig3uSZyLp"
   },
   "source": [
    "### **The Bellman Equations**\n",
    "The value function can be written recursively as:\n",
    "\n",
    "$Q_{\\pi}(s, a) = \\mathbb{E}_{s^\\prime \\sim p(s^\\prime |s, a)}\\left[r + \\gamma\\underset{a^{\\prime} \\sim \\pi}{\\mathrm{E}}\\left[Q_{\\pi}\\left(s^{\\prime}, a^{\\prime}\\right)\\right]\\right]$,\n",
    "\n",
    "Intuitively, this equation says that the value of the action $a$ you took in the state $s$ is equal to the reward $r$ you expect to get, plus the value you expect to get in the next state $s'$ you land in given that you will choose your next action $a'$ with the policy $\\pi$. The Bellman equation for the optimal value function is:\n",
    "\n",
    "$Q_{*}(s, a) = \\mathbb{E}_{s^\\prime \\sim p(s^\\prime |s, a)}\\left[r +\\ \\gamma \\underset{a^{\\prime}}{\\max}\\ Q_{*}(s^{\\prime}, a^{\\prime})\\right]$\n",
    "\n",
    "Notice that instead of chosing your next action $a'$ with policy $\\pi$, we choose the action with the greatest Q-value."
   ]
  },
  {
   "cell_type": "markdown",
   "metadata": {
    "id": "DsOJi5G8ZyLp"
   },
   "source": [
    "### **The Bellman Backup**\n",
    "To learn to approximate the optimal Q-value function, we can use the right-hand side of the Bellman equation as an update rule. In other words, suppose we have a Q-network $Q_\\phi$, with parameters $\\phi$, then we can iteratively update the parameters such that\n",
    "\n",
    "$Q_\\phi(s,a)\\leftarrow r + \\gamma \\underset{a'}{\\max}\\ Q_\\phi(s', a')$.\n",
    "\n",
    "Intuitively, this says that the approximation of the Q-value of action $a$ in state $s$ should be updated such that it is closer to being equal to the reward received from the environment $r$ plus the value of the best possible action in the next state $s'$. We can perform this optimisation by minimising the difference between the left and right-hand side, with respect to the parameters $\\phi$ using gradient descent. We can measure the difference between the two values using the [squared-error](https://en.wikipedia.org/wiki/Mean_squared_error#Loss_function).\n",
    "\n",
    "---\n",
    "> **For you!**\n",
    ">\n",
    "> Implement the squared-error function.\n",
    "---\n",
    "\n",
    "**Useful functions**\n",
    "* `jnp.square` ([docs](https://jax.readthedocs.io/en/latest/_autosummary/jax.numpy.square.html))"
   ]
  },
  {
   "cell_type": "code",
   "execution_count": 8,
   "metadata": {
    "id": "PTto__ohZyLp"
   },
   "outputs": [],
   "source": [
    "def compute_squared_error(pred, target):\n",
    "  # YOUR CODE\n",
    "  squared_error = jnp.square(pred-target)\n",
    "  # END YOUR CODE\n",
    "\n",
    "  return squared_error"
   ]
  },
  {
   "cell_type": "code",
   "execution_count": 9,
   "metadata": {
    "colab": {
     "base_uri": "https://localhost:8080/"
    },
    "id": "wGhX8XTFVPVU",
    "outputId": "213920f0-e07b-4348-94af-2adb6cdbc26a"
   },
   "outputs": [
    {
     "name": "stdout",
     "output_type": "stream",
     "text": [
      "Looks good!\n"
     ]
    }
   ],
   "source": [
    "#@title Check your implementation (run me) {display-mode: \"form\"}\n",
    "\n",
    "try:\n",
    "  result = compute_squared_error(1, 4)\n",
    "\n",
    "  if result != 9:\n",
    "    print(\"Oops! It seems your implementation is incorrect.\")\n",
    "  else:\n",
    "    print(\"Looks good!\")\n",
    "except Exception as e:\n",
    "  print(\"Oops! It seems you didn't implement anything?\")"
   ]
  },
  {
   "cell_type": "markdown",
   "metadata": {
    "id": "ycpZVkgdZyLp"
   },
   "source": [
    "\n",
    "\n",
    "---\n",
    "> **For you!**\n",
    ">\n",
    "> Implement a function that computes the **Bellman target** (right-hand side of the Bellman equation). If the episode is at the last timestep (i.e. done==1.0), then the Bellman target should be equal to the reward, with no extra value at the end.\n",
    "---\n",
    "\n",
    "**Useful functions**\n",
    "* `jnp.max` ([docs](https://jax.readthedocs.io/en/latest/_autosummary/jax.numpy.max.html))"
   ]
  },
  {
   "cell_type": "code",
   "execution_count": 10,
   "metadata": {
    "id": "961_OllWZyLp"
   },
   "outputs": [],
   "source": [
    "# Bellman target\n",
    "def compute_bellman_target(reward, done, next_q_values, gamma=0.99):\n",
    "  \"\"\"A function to compute the bellman target.\n",
    "\n",
    "  Args:\n",
    "      reward: a scalar reward.\n",
    "      done: a scalar of value either 1.0 or 0.0, indicating if the transition is a terminal one.\n",
    "      next_q_values: a vector of q_values for the next state. One for each action.\n",
    "      gamma: a scalar discount value between 0 and 1.\n",
    "\n",
    "    -- IMPORTANT NOTE: you should keep the default gamma value to check your implementation\n",
    "\n",
    "  Returns:\n",
    "      A scalar equal to the bellman target.\n",
    "\n",
    "  \"\"\"\n",
    "  # YOUR CODE\n",
    "\n",
    "  # bellman_target = jax.lax.select(done == 1.0, reward ,  reward + (gamma * jnp.max(next_q_values)) )\n",
    "\n",
    "  # END YOUR CODE\n",
    "\n",
    "  return jnp.where(done == 1.0, reward, reward + (gamma * jnp.max(next_q_values)))"
   ]
  },
  {
   "cell_type": "code",
   "execution_count": 11,
   "metadata": {
    "colab": {
     "base_uri": "https://localhost:8080/"
    },
    "id": "E5RAhegOWAkC",
    "outputId": "4870ce75-c036-4fb3-f20f-825654276df6"
   },
   "outputs": [
    {
     "name": "stdout",
     "output_type": "stream",
     "text": [
      "Looks good!\n"
     ]
    }
   ],
   "source": [
    "#@title Check your implementation (run me) {display-mode: \"form\"}\n",
    "\n",
    "try:\n",
    "  # not done\n",
    "  result1 = compute_bellman_target(1, 0.0, np.array([3,2], \"float32\"))\n",
    "\n",
    "  # done\n",
    "  result2 = compute_bellman_target(1, 1.0, np.array([3,2], \"float32\"))\n",
    "\n",
    "  if np.abs(result1 - 3.97) > 0.0001 or result2 != 1:\n",
    "    print(\"Oops! It seems your implementation is incorrect.\")\n",
    "  else:\n",
    "    print(\"Looks good!\")\n",
    "except Exception as e:\n",
    "  print(\"Oops! It seems you didn't implement anything?\")"
   ]
  },
  {
   "cell_type": "markdown",
   "metadata": {
    "id": "8sIjrHSJZyLq"
   },
   "source": [
    "We can now combine these two functions to compute the loss for Q-learning. The Q-learning loss is equal to the squared difference between the predicted Q-value of an action and its corresponding Bellman target.\n",
    "\n",
    "---\n",
    "> **For you!**\n",
    ">\n",
    "> Implement the Q-learning loss.\n",
    "---\n",
    "\n"
   ]
  },
  {
   "cell_type": "code",
   "execution_count": 12,
   "metadata": {
    "id": "LJY_kpFcZyLq"
   },
   "outputs": [],
   "source": [
    "def q_learning_loss(q_values, action, reward, done, next_q_values):\n",
    "    \"\"\"Implementation of the Q-learning loss.T\n",
    "\n",
    "    Args:\n",
    "        q_values: a vector of Q-values, one for each action.\n",
    "        action: an integer, giving the action that was chosen. q_values[action] is the value of the chose action.\n",
    "        done: is a scalar that indicates if this is a terminal transition.\n",
    "        next_q_values: a vector of Q-values in the next state.\n",
    "    Returns:\n",
    "        The squared difference between the q_value of the chosen action and the bellman target.\n",
    "    \"\"\"\n",
    "    # YOUR CODE\n",
    "    chosen_action_q_value = q_values[action] # q_value of action, use array indexing\n",
    "    bellman_target = compute_bellman_target(reward, done, next_q_values, gamma=0.99)\n",
    "    squared_error = compute_squared_error(chosen_action_q_value, bellman_target)\n",
    "    # END YOUR CODE\n",
    "\n",
    "    return squared_error"
   ]
  },
  {
   "cell_type": "code",
   "execution_count": 13,
   "metadata": {
    "colab": {
     "base_uri": "https://localhost:8080/"
    },
    "id": "1aZRn1qaWx2M",
    "outputId": "c3b99a4e-429e-4a07-b013-4a5375398add"
   },
   "outputs": [
    {
     "name": "stdout",
     "output_type": "stream",
     "text": [
      "8.820902\n",
      "Looks good!\n"
     ]
    }
   ],
   "source": [
    "#@title Check your implementation (run me) {display-mode: \"form\"}\n",
    "\n",
    "try:\n",
    "  result = q_learning_loss(np.array([3,2], \"float32\"), 1, 2, 0.0, np.array([3,2], \"float32\"))\n",
    "  print(result)\n",
    "\n",
    "  if np.abs(result - 8.820902) > 0.0001:\n",
    "    print(\"Oops! It seems your implementation is incorrect.\")\n",
    "  else:\n",
    "    print(\"Looks good!\")\n",
    "except Exception as e:\n",
    "  print(\"Oops! It seems you didn't implement anything?\")"
   ]
  },
  {
   "cell_type": "markdown",
   "metadata": {
    "id": "b4YnSUfJZyLq"
   },
   "source": [
    "### **Target Q-network**\n",
    "Notice that when we compute the bellman target we are using our Q-network $Q_\\phi$ to compute the value for the next state $S_{t+1}$. We are basically using our latest approximation of the Q-function to compute the target of our next approximation. Using an approximation to compute the target for your next approximation, is called **bootstrapping**.\n",
    "\n",
    "Unfortunately, if we naively bootstrap like this, it can make training a neural network very unstable. To mitigage this we can instead use a different set of parameters $\\bar{\\phi}$ to compute the values at state $S_{t+1}$. We will keep the parameters $\\bar{\\phi}$ fixed and only periodically update them to be equal to the latest online parameters $\\phi$ every couple of training steps *(say 100)*. This serves to keep the bellman targets fixed for a couple training steps to help reduce the instability due to bootstrapping.\n",
    "\n",
    "\n",
    "We will need to keep track of the latest (online) parameters $\\phi$, as well as the target networks parameters $\\bar{\\phi}$. Lets make a `NamedTuple` to store these two values. We will also need to keep track of the number of learner steps we have taken, so that we know when to update the target network. Lets store a `count` of the learn steps in the `learn_state`."
   ]
  },
  {
   "cell_type": "code",
   "execution_count": 14,
   "metadata": {
    "id": "DvZqUKmq6L7k"
   },
   "outputs": [],
   "source": [
    "# Store online and target parameters\n",
    "QLearnParams = collections.namedtuple(\"Params\", [\"online\", \"target\"])\n",
    "\n",
    "# Q-learn-state\n",
    "QLearnState = collections.namedtuple(\"LearnerState\", [\"count\", \"optim_state\"])"
   ]
  },
  {
   "cell_type": "markdown",
   "metadata": {
    "id": "CJWH2_kNZsau"
   },
   "source": [
    "We will be using **Optax** to optimize our neural network. We store the state of the optimizer in the `learn_state` above. Lets now instantiate the optimizer and add the initial Q-network parameters to a `QLearnParams` object."
   ]
  },
  {
   "cell_type": "code",
   "execution_count": 15,
   "metadata": {
    "id": "HwqKTN6BaAXE"
   },
   "outputs": [],
   "source": [
    "# Initialise Q-network optimizer\n",
    "Q_LEARN_OPTIMIZER = optax.adam(3e-4) # learning rate\n",
    "\n",
    "Q_LEARN_OPTIM_STATE = Q_LEARN_OPTIMIZER.init(Q_NETWORK_PARAMS) # initial optim state\n",
    "\n",
    "# Create Learn State\n",
    "Q_LEARNING_LEARN_STATE = QLearnState(0, Q_LEARN_OPTIM_STATE) # count set to zero initially\n",
    "\n",
    "# Add initial Q-network weights to QLearnParams object\n",
    "Q_LEARNING_PARAMS = QLearnParams(online=Q_NETWORK_PARAMS, target=Q_NETWORK_PARAMS) # target equal to online"
   ]
  },
  {
   "cell_type": "markdown",
   "metadata": {
    "id": "xj89M8LgZlFe"
   },
   "source": [
    "Now we can implement a simple function that updates the target network parameters to equal the latest online network parameters every 100 training steps."
   ]
  },
  {
   "cell_type": "code",
   "execution_count": 16,
   "metadata": {
    "id": "SKrg_3rO6cCL"
   },
   "outputs": [],
   "source": [
    "def update_target_params(learn_state, online_weights, target_weights, update_frequency=100):\n",
    "  \"\"\"A function to update target params every 100 training steps\"\"\"\n",
    "\n",
    "  target = jax.lax.cond(\n",
    "      jnp.mod(learn_state.count, update_frequency) == 0,\n",
    "      lambda x, y: x,\n",
    "      lambda x, y: y,\n",
    "      online_weights,\n",
    "      target_weights\n",
    "  )\n",
    "\n",
    "  params = QLearnParams(online_weights, target)\n",
    "\n",
    "  return params"
   ]
  },
  {
   "cell_type": "markdown",
   "metadata": {
    "id": "KoiaYSo9ZyLq"
   },
   "source": [
    "### **Q-learning loss**\n",
    "We now have everything we need to implement the `q_learn` function which takes some batch of transitions and does a step of Q-learning to update the network paramters. But first we use `jax.vmap` to modify the `q_learning_loss` function so that it accepts batches of transitions. In addition, we will compute the Q-values by passing the observations through the `Q_NETWORK` and the target Q-values using the target parameters of the `Q_NETWORK`."
   ]
  },
  {
   "cell_type": "code",
   "execution_count": 17,
   "metadata": {
    "id": "hnrsGppWZyLq"
   },
   "outputs": [],
   "source": [
    "def batched_q_learning_loss(online_params, target_params, obs, actions, rewards, next_obs, dones):\n",
    "    q_values = Q_NETWORK.apply(online_params, obs) # use the online parameters\n",
    "    next_q_values = Q_NETWORK.apply(target_params, next_obs) # use the target parameters\n",
    "    squared_error = jax.vmap(q_learning_loss)(q_values, actions, rewards, dones, next_q_values) # vmap q_learning_loss\n",
    "    mean_squared_error = jnp.mean(squared_error) # mean squared error over batch\n",
    "    return mean_squared_error"
   ]
  },
  {
   "cell_type": "markdown",
   "metadata": {
    "id": "CU8vo9ZebnEa"
   },
   "source": [
    "Now we can create the `q_learn` function which computes the gradient of the `batched_q_learning_loss` and then uses an Optax optimizer to update the network weights and then finally (maybe) updates the target parameters."
   ]
  },
  {
   "cell_type": "code",
   "execution_count": 18,
   "metadata": {
    "id": "6BYoX2W_ZyLr"
   },
   "outputs": [],
   "source": [
    "def q_learn(rng, params, learner_state, memory):\n",
    "  # Compute gradients\n",
    "  grad_loss = jax.grad(batched_q_learning_loss)(params.online, params.target, memory.obs,\n",
    "                                          memory.action, memory.reward,\n",
    "                                          memory.next_obs, memory.done,\n",
    "                                          ) # jax.grad\n",
    "\n",
    "  # Get updates\n",
    "  updates, opt_state = Q_LEARN_OPTIMIZER.update(grad_loss, learner_state.optim_state)\n",
    "\n",
    "  # Apply them\n",
    "  new_weights = optax.apply_updates(params.online, updates)\n",
    "\n",
    "  # Maybe update target network\n",
    "  params = update_target_params(learner_state, new_weights, params.target)\n",
    "\n",
    "  # Increment learner step counter\n",
    "  learner_state = QLearnState(learner_state.count + 1, opt_state)\n",
    "\n",
    "  return params, learner_state"
   ]
  },
  {
   "cell_type": "markdown",
   "metadata": {
    "id": "Jg9WeeChVYzG"
   },
   "source": [
    "### **A General Purpose RL Training Loop**\n",
    "We have implemented a general purpose RL training loop for you. The training loop takes several arguments as input but the three most important for you to understand are `agent_select_action_func`, `agent_learn_func` and the `agent_memory`.\n",
    "\n",
    "* The `agent_select_action_func` should take an observation and set of `agent_params` as input and should return an action.\n",
    "* The `agent_learn_func` should take the agent's parameters and some \"memories\" as input and then update and return the agents new parameters.\n",
    "* The `agent_memory` is a general purpose module we define that can store some relevant information about the agent's experiences in the environment that can be used in the `agent_learn_func`.\n",
    "\n",
    "Below is the training loop function. You are welcome to go through the code and try to understand it but this is not strictly required."
   ]
  },
  {
   "cell_type": "code",
   "execution_count": 19,
   "metadata": {
    "id": "4jra0ykU-GLN"
   },
   "outputs": [],
   "source": [
    "#@title Training loop (run me) { display-mode: \"form\" }\n",
    "\n",
    "# NamedTuple to store transitions\n",
    "Transition = collections.namedtuple(\"Transition\", [\"obs\", \"action\", \"reward\", \"next_obs\", \"done\"])\n",
    "\n",
    "# Training Loop\n",
    "def run_training_loop(env_name, agent_params, agent_select_action_func,\n",
    "    agent_actor_state=None, agent_learn_func=None, agent_learner_state=None,\n",
    "    agent_memory=None, num_episodes=1000, evaluator_period=10,\n",
    "    evaluation_episodes=8, learn_steps_per_episode=1,\n",
    "    train_every_timestep=False, video_subdir=\"\",):\n",
    "    \"\"\"\n",
    "    This function runs several episodes in an environment and periodically does\n",
    "    some agent learning and evaluation.\n",
    "\n",
    "    Args:\n",
    "        env: a gym environment.\n",
    "        agent_params: an object to store parameters that the agent uses.\n",
    "        agent_select_func: a function that does action selection for the agent.\n",
    "        agent_actor_state (optional): an object that stores the internal state\n",
    "            of the agents action selection function.\n",
    "        agent_learn_func (optional): a function that does some learning for the\n",
    "            agent by updating the agent parameters.\n",
    "        agent_learn_state (optional): an object that stores the internal state\n",
    "            of the agent learn function.\n",
    "        agent_memory (optional): an object for storing an retrieving historical\n",
    "            experience.\n",
    "        num_episodes: how many episodes to run.\n",
    "        evaluator_period: how often to run evaluation.\n",
    "        evaluation_episodes: how many evaluation episodes to run.\n",
    "        train_every_timestep: whether to train every timestep rather than at the end\n",
    "            of the episode.\n",
    "        video_subdir: subdirectory to store epsiode recordings.\n",
    "\n",
    "    Returns:\n",
    "        episode_returns: list of all the episode returns.\n",
    "        evaluator_episode_returns: list of all the evaluator episode returns.\n",
    "    \"\"\"\n",
    "\n",
    "    # Setup Cartpole environment and recorder\n",
    "    env = gym.make(env_name, render_mode=\"rgb_array\") # training environment\n",
    "    eval_env = gym.make(env_name, render_mode=\"rgb_array\") # evaluation environment\n",
    "\n",
    "    # Video dir\n",
    "    video_dir = \"./video\"+\"/\"+video_subdir\n",
    "\n",
    "    # Clear video dir\n",
    "    try:\n",
    "      rmtree(video_dir)\n",
    "    except:\n",
    "      pass\n",
    "\n",
    "    # Wrap in recorder\n",
    "    env = RecordVideo(env, video_dir+\"/train\", episode_trigger=lambda x: (x % evaluator_period) == 0)\n",
    "    eval_env = RecordVideo(eval_env, video_dir+\"/eval\", episode_trigger=lambda x: (x % evaluation_episodes) == 0)\n",
    "\n",
    "    # JAX random number generator\n",
    "    rng = hk.PRNGSequence(jax.random.PRNGKey(0))\n",
    "    # env.seed(0) # seed environment for reproducability\n",
    "    random.seed(0)\n",
    "\n",
    "    episode_returns = [] # List to store history of episode returns.\n",
    "    evaluator_episode_returns = [] # List to store history of evaluator returns.\n",
    "    timesteps = 0\n",
    "    for episode in range(num_episodes):\n",
    "\n",
    "        # Reset environment.\n",
    "        obs = env.reset()\n",
    "        episode_return = 0\n",
    "        done = False\n",
    "\n",
    "        while not done:\n",
    "\n",
    "            # Agent select action.\n",
    "            action, agent_actor_state = agent_select_action_func(\n",
    "                                            next(rng),\n",
    "                                            agent_params,\n",
    "                                            agent_actor_state,\n",
    "                                            np.array(obs)\n",
    "                                        )\n",
    "\n",
    "            # Step environment.\n",
    "            next_obs, reward, done, _ = env.step(int(action))\n",
    "\n",
    "            # Pack into transition.\n",
    "            transition = Transition(obs, action, reward, next_obs, done)\n",
    "\n",
    "            # Add transition to memory.\n",
    "            if agent_memory: # check if agent has memory\n",
    "              agent_memory.push(transition)\n",
    "\n",
    "            # Add reward to episode return.\n",
    "            episode_return += reward\n",
    "\n",
    "            # Set obs to next obs before next environment step. CRITICAL!!!\n",
    "            obs = next_obs\n",
    "\n",
    "            # Increment timestep counter\n",
    "            timesteps += 1\n",
    "\n",
    "            # Maybe learn every timestep\n",
    "            if train_every_timestep and (timesteps % 4 == 0) and agent_memory and agent_memory.is_ready(): # Make sure memory is ready\n",
    "                # First sample memory and then pass the result to the learn function\n",
    "                memory = agent_memory.sample()\n",
    "                agent_params, agent_learner_state = agent_learn_func(\n",
    "                                                        next(rng),\n",
    "                                                        agent_params,\n",
    "                                                        agent_learner_state,\n",
    "                                                        memory\n",
    "                                                    )\n",
    "\n",
    "        episode_returns.append(episode_return)\n",
    "\n",
    "        # At the end of every episode we do a learn step.\n",
    "        if agent_memory and agent_memory.is_ready(): # Make sure memory is ready\n",
    "\n",
    "            for _ in range(learn_steps_per_episode):\n",
    "                # First sample memory and then pass the result to the learn function\n",
    "                memory = agent_memory.sample()\n",
    "                agent_params, agent_learner_state = agent_learn_func(\n",
    "                                                        next(rng),\n",
    "                                                        agent_params,\n",
    "                                                        agent_learner_state,\n",
    "                                                        memory\n",
    "                                                    )\n",
    "\n",
    "        if (episode % evaluator_period) == 0: # Do evaluation\n",
    "\n",
    "            evaluator_episode_return = 0\n",
    "            for eval_episode in range(evaluation_episodes):\n",
    "                obs = eval_env.reset()\n",
    "                done = False\n",
    "                while not done:\n",
    "                    action, _ = agent_select_action_func(\n",
    "                                    next(rng),\n",
    "                                    agent_params,\n",
    "                                    agent_actor_state,\n",
    "                                    np.array(obs),\n",
    "                                    evaluation=True\n",
    "                                )\n",
    "\n",
    "                    obs, reward, done, _ = eval_env.step(int(action))\n",
    "\n",
    "                    evaluator_episode_return += reward\n",
    "\n",
    "            evaluator_episode_return /= evaluation_episodes\n",
    "\n",
    "            evaluator_episode_returns.append(evaluator_episode_return)\n",
    "\n",
    "            logs = [\n",
    "                    f\"Episode: {episode}\",\n",
    "                    f\"Epsilon: {get_epsilon(timesteps)}\",\n",
    "                    f\"Episode Return: {episode_return}\",\n",
    "                    f\"Average Episode Return: {np.mean(episode_returns[-20:])}\",\n",
    "                    f\"Evaluator Episode Return: {evaluator_episode_return}\"\n",
    "            ]\n",
    "\n",
    "            print(*logs, sep=\"\\t\") # Print the logs\n",
    "\n",
    "    env.close()\n",
    "    eval_env.close()\n",
    "\n",
    "    return episode_returns, evaluator_episode_returns"
   ]
  },
  {
   "cell_type": "markdown",
   "metadata": {
    "id": "VpZsKHssZyLq"
   },
   "source": [
    "### **Replay Buffer**\n",
    "For Q-learning, we will need an agent memory that stores entire transitions: `obs`, `action`, `reward`, `next_obs`, `done`. When we retrieve transitions from the memory, they should be chosen randomly from all of the transitions collected so far. In RL, we often call such a module a **replay buffer**. One benefit of using a replay buffer is that experiences can be *re-used* several times for training."
   ]
  },
  {
   "cell_type": "code",
   "execution_count": 20,
   "metadata": {
    "id": "8tv5dUH6ZyLr"
   },
   "outputs": [],
   "source": [
    "class TransitionMemory(object):\n",
    "  \"\"\"A simple Python replay buffer.\"\"\"\n",
    "\n",
    "  def __init__(self, max_size=10_000, batch_size=256):\n",
    "    self.batch_size = batch_size\n",
    "    self.buffer = collections.deque(maxlen=max_size)\n",
    "\n",
    "  def push(self, transition):\n",
    "\n",
    "    # add transition to the replay buffer\n",
    "    self.buffer.append(\n",
    "        (transition.obs, transition.action, transition.reward,\n",
    "          transition.next_obs, transition.done)\n",
    "    )\n",
    "\n",
    "\n",
    "  def is_ready(self):\n",
    "    return self.batch_size <= len(self.buffer)\n",
    "\n",
    "  def sample(self):\n",
    "    # Randomly sample a batch of transitions from the buffer\n",
    "    random_replay_sample = random.sample(self.buffer, self.batch_size)\n",
    "\n",
    "    # Batch the transitions together\n",
    "    obs_batch, action_batch, reward_batch, next_obs_batch, done_batch = zip(*random_replay_sample)\n",
    "\n",
    "    return Transition(\n",
    "        np.stack(obs_batch).astype(\"float32\"),\n",
    "        np.asarray(action_batch).astype(\"int32\"),\n",
    "        np.asarray(reward_batch).astype(\"float32\"),\n",
    "        np.stack(next_obs_batch).astype(\"float32\"),\n",
    "        np.asarray(done_batch).astype(\"float32\")\n",
    "    )\n",
    "\n",
    "# Instantiate the memory\n",
    "Q_LEARNING_MEMORY = TransitionMemory(max_size=10_000, batch_size=512)"
   ]
  },
  {
   "cell_type": "markdown",
   "metadata": {
    "id": "XbHk03VVUHAV"
   },
   "source": [
    "### **Random exploration**\n",
    "We almost have everything we need for a functioning Q-learning agent. But one problem is that if we always choose the action with the highest Q-value then the agent's policy will be completly *deterministic*. This means the agent will always choose the same strategy. This can pose a problem because at the start of training, the Q-network will be very inaccurate (i.e. a bad aproximation of the true Q-function) and the agent will consistently choose suboptimal actions. Moreover, the agent will never deviate from its suboptimal strategy and discover new, potentially more rewarding  actions. As a result, the Q-network remains inaccurate. Ideally, the agent should try out many different strategies in the beginning so that it can observe the outcomes (rewards) of its actions in different states and so improve its approximation of the Q-function.\n",
    "\n",
    "One easy way to ensure that the agent tries out many different actions is to let it choose some random actions, instead of the greedy (best) action all the time.\n",
    "\n",
    "---\n",
    "> **For you!**\n",
    ">\n",
    "> Implement a random action selector! This should be a function that, given the number of possible (discrete) actions, returns a random action.\n",
    "---\n",
    "\n",
    "\n",
    "\n",
    "**Useful methods:**\n",
    "\n",
    "*  `jax.random.randint` ([docs](https://jax.readthedocs.io/en/latest/_autosummary/jax.random.randint.html))"
   ]
  },
  {
   "cell_type": "code",
   "execution_count": 21,
   "metadata": {
    "id": "uUKkpMLXUtko"
   },
   "outputs": [],
   "source": [
    "def select_random_action(key, num_actions):\n",
    "\n",
    "    # YOUR CODE\n",
    "    action = jax.random.randint(key,(),0,num_actions)\n",
    "    # END YOUR CODE\n",
    "\n",
    "    return action"
   ]
  },
  {
   "cell_type": "code",
   "execution_count": 22,
   "metadata": {
    "colab": {
     "base_uri": "https://localhost:8080/"
    },
    "id": "NO6va6S2Y40E",
    "outputId": "3587ed9b-6949-4b03-c961-277e583b7c2c"
   },
   "outputs": [
    {
     "name": "stdout",
     "output_type": "stream",
     "text": [
      "Looks good!\n"
     ]
    }
   ],
   "source": [
    "#@title Check your implementation (run me) {display-mode: \"form\"}\n",
    "\n",
    "try:\n",
    "  random_key1 = random_key = jax.random.PRNGKey(6) # random key\n",
    "  random_key2 = random_key = jax.random.PRNGKey(1000) # random key\n",
    "  result1 = select_random_action(random_key1, 2)\n",
    "  result2 = select_random_action(random_key2, 2)\n",
    "\n",
    "  if result1 != 1 or result2 != 0:\n",
    "    print(\"Oops! It seems your implementation is incorrect.\")\n",
    "  else:\n",
    "    print(\"Looks good!\")\n",
    "except:\n",
    "  print(\"Oops! It seems your implementation is incorrect.\")"
   ]
  },
  {
   "cell_type": "markdown",
   "metadata": {
    "id": "8-kKDFT6XU6y"
   },
   "source": [
    "### **$\\varepsilon$-greedy action selection**\n",
    "At the start of training, when the accuracy of the Q-network is low, it is worthwhile for the agent to mostly take random actions so that it can learn about how good or bad certain actions are. However, as the accuracy of the Q-network improves, the agent should start taking fewer random actions and instead start choosing greedy actions with respect to the Q-values. Choosing the best actions given the current Q-network is referred to as **exploitation**. In RL, we typically denote the ratio of random to greedy actions by the value **epsilon** $\\varepsilon$. Epsilon is usually a decimal value in the interval $[0,1]$, where for example $\\varepsilon=0.4$ means that the agent chooses a random action 40% of the time and the greedy action 60% of the time. It is common in RL to linearly (or exponentially) decrease the value of epsilon over time so that the agent becomes increasingly greedy as the accuracy of its Q-network improves through learning.\n",
    "\n",
    "\n",
    "\n",
    "---\n",
    "> **For you!**\n",
    ">\n",
    "> Implement an $\\varepsilon$ decay schedule. This function should take the number of timesteps as input and return the current epsilon value.\n",
    "---\n"
   ]
  },
  {
   "cell_type": "code",
   "execution_count": 23,
   "metadata": {
    "id": "_qejnbCocurG"
   },
   "outputs": [],
   "source": [
    "EPSILON_DECAY_TIMESTEPS = 3000 # decay epsilon over 3000 timesteps\n",
    "EPSILON_MIN = 0.1 # 10% exploration"
   ]
  },
  {
   "cell_type": "code",
   "execution_count": 24,
   "metadata": {
    "id": "5ujSbssCZyLs"
   },
   "outputs": [],
   "source": [
    "def get_epsilon(num_timesteps):\n",
    "  # YOUR CODE\n",
    "  decay = num_timesteps / EPSILON_DECAY_TIMESTEPS\n",
    "  epsilon = 1 - decay\n",
    "\n",
    "  epsilon = jax.lax.select(\n",
    "      epsilon < EPSILON_MIN,\n",
    "      EPSILON_MIN, # if less than min then set to min\n",
    "      epsilon # else don't change epsilon\n",
    "  )\n",
    "  # END YOUR CODE\n",
    "\n",
    "  return epsilon"
   ]
  },
  {
   "cell_type": "code",
   "execution_count": 25,
   "metadata": {
    "colab": {
     "base_uri": "https://localhost:8080/"
    },
    "id": "hvu4zA64aUou",
    "outputId": "ebf4c285-ff21-44aa-d03f-c6c9b31df2b2"
   },
   "outputs": [
    {
     "name": "stdout",
     "output_type": "stream",
     "text": [
      "Looks good!\n"
     ]
    }
   ],
   "source": [
    "#@title Check your implementation (run me) {display-mode: \"form\"}\n",
    "def check_get_epsilon(get_epsilon):\n",
    "  try:\n",
    "    result1 = get_epsilon(10)\n",
    "    result2 = get_epsilon(5_010)\n",
    "\n",
    "    if result1 != 0.99666667 or result2 != 0.1:\n",
    "      print(\"Oops! It seems your implementation is incorrect.\")\n",
    "    else:\n",
    "      print(\"Looks good!\")\n",
    "  except:\n",
    "    print(\"Oops! It seems your implementation is incorrect.\")\n",
    "\n",
    "check_get_epsilon(get_epsilon)\n"
   ]
  },
  {
   "cell_type": "markdown",
   "metadata": {
    "id": "t56oo58TVQ_s"
   },
   "source": [
    "---\n",
    "> **For you!**\n",
    ">\n",
    "> Implement an $\\varepsilon$-greedy action selector incorporating the schedule from above.\n",
    "---"
   ]
  },
  {
   "cell_type": "code",
   "execution_count": 26,
   "metadata": {
    "id": "NlQx8K4vKUXj"
   },
   "outputs": [],
   "source": [
    "def select_epsilon_greedy_action(key, q_values, num_timesteps):\n",
    "    num_actions = len(q_values) # number of available actions\n",
    "\n",
    "    # YOUR CODE HERE\n",
    "    epsilon = get_epsilon(num_timesteps) # get epsilon value\n",
    "\n",
    "    should_explore = jax.random.uniform(key) < epsilon # hint: a boolean expression to check if some random number is less than epsilon\n",
    "\n",
    "    action = jax.lax.select(\n",
    "        should_explore,\n",
    "        select_random_action(key, 2), # if should explore\n",
    "        select_greedy_action(q_values)# if should be greedy\n",
    "    )\n",
    "    # END YOUR CODE\n",
    "\n",
    "    return action"
   ]
  },
  {
   "cell_type": "code",
   "execution_count": 27,
   "metadata": {
    "colab": {
     "base_uri": "https://localhost:8080/"
    },
    "id": "mkVU2a5e7P6b",
    "outputId": "ad25933a-6834-420c-a03d-5cad0da2fb53"
   },
   "outputs": [
    {
     "name": "stdout",
     "output_type": "stream",
     "text": [
      "Looks good!\n"
     ]
    }
   ],
   "source": [
    "#@title Check your implementation (run me) {display-mode: \"form\"}\n",
    "\n",
    "try:\n",
    "  rng = hk.PRNGSequence(jax.random.PRNGKey(42))\n",
    "  dummy_q_values = jnp.array([0,1], jnp.float32)\n",
    "  num_timesteps = 5010 # very greedy\n",
    "  actions1 = []\n",
    "  for i in range(10):\n",
    "      actions1.append(int(select_epsilon_greedy_action(next(rng), dummy_q_values, num_timesteps)))\n",
    "\n",
    "  num_timesteps = 0 # completly random\n",
    "  actions2 = []\n",
    "  for i in range(10):\n",
    "      actions2.append(int(select_epsilon_greedy_action(next(rng), dummy_q_values, num_timesteps)))\n",
    "\n",
    "  if actions1 != [1, 1, 0, 1, 1, 0, 1, 1, 1, 1] or actions2 != [0, 0, 0, 1, 1, 1, 1, 0, 0, 0]:\n",
    "    print(\"Oops! It seems your implementation is incorrect.\")\n",
    "  else:\n",
    "    print(\"Looks good!\")\n",
    "except:\n",
    "  print(\"Oops! It seems your implementation is incorrect.\")"
   ]
  },
  {
   "cell_type": "markdown",
   "metadata": {
    "id": "y5W23MnobN9x"
   },
   "source": [
    "### **Q-learning select action**\n",
    "\n",
    "We now have everything we need to make the `q_learning_select_action` function. We will use the `actor_state` to store a counter which keeps track of the current number of timesteps. We can use the counter to decrement our `epsilon` value."
   ]
  },
  {
   "cell_type": "code",
   "execution_count": 28,
   "metadata": {
    "id": "81TysLc0RjM6"
   },
   "outputs": [],
   "source": [
    "# Actor state stores the current number of timesteps\n",
    "QActorState = collections.namedtuple(\"ActorState\", [\"count\"])\n",
    "\n",
    "def q_learning_select_action(key, params, actor_state, obs, evaluation=False):\n",
    "    obs = jnp.expand_dims(obs, axis=0) # add dummy batch dim\n",
    "    q_values = Q_NETWORK.apply(params.online, obs)[0] # remove batch dim\n",
    "\n",
    "    action = select_epsilon_greedy_action(key, q_values, actor_state.count)\n",
    "    greedy_action = select_greedy_action(q_values)\n",
    "\n",
    "    action = jax.lax.select(\n",
    "        evaluation,\n",
    "        greedy_action,\n",
    "        action\n",
    "    )\n",
    "\n",
    "    next_actor_state = QActorState(actor_state.count + 1) # increment timestep counter\n",
    "\n",
    "    return action, next_actor_state\n",
    "\n",
    "Q_LEARNING_ACTOR_STATE = QActorState(0) # counter set to zero"
   ]
  },
  {
   "cell_type": "markdown",
   "metadata": {
    "id": "z884-1oNRGEr"
   },
   "source": [
    "### **Training**\n",
    "We can now put everything together using the agent-environment loop. We also `jit` the select action function and the learn function for some extra speed!"
   ]
  },
  {
   "cell_type": "code",
   "execution_count": 29,
   "metadata": {
    "id": "OHBQzg1GcCOs"
   },
   "outputs": [],
   "source": [
    "# Jit functions\n",
    "q_learning_select_action_jit = jax.jit(q_learning_select_action)\n",
    "q_learn_jit = jax.jit(q_learn)"
   ]
  },
  {
   "cell_type": "code",
   "execution_count": 30,
   "metadata": {
    "colab": {
     "base_uri": "https://localhost:8080/",
     "height": 1000
    },
    "id": "xbdHDbd1RjM8",
    "outputId": "c153a022-5556-44d1-f9fe-c7511399686a"
   },
   "outputs": [
    {
     "name": "stdout",
     "output_type": "stream",
     "text": [
      "Starting training. This may take a few minutes to complete.\n",
      "Episode: 0\tEpsilon: 0.9963333606719971\tEpisode Return: 11.0\tAverage Episode Return: 11.0\tEvaluator Episode Return: 11.25\n",
      "Episode: 10\tEpsilon: 0.9126666784286499\tEpisode Return: 24.0\tAverage Episode Return: 23.818181818181817\tEvaluator Episode Return: 11.5\n",
      "Episode: 20\tEpsilon: 0.8423333168029785\tEpisode Return: 16.0\tAverage Episode Return: 23.1\tEvaluator Episode Return: 9.375\n",
      "Episode: 30\tEpsilon: 0.7739999890327454\tEpisode Return: 11.0\tAverage Episode Return: 20.8\tEvaluator Episode Return: 9.5\n",
      "Episode: 40\tEpsilon: 0.7073333263397217\tEpisode Return: 22.0\tAverage Episode Return: 20.25\tEvaluator Episode Return: 9.0\n",
      "Episode: 50\tEpsilon: 0.6606666445732117\tEpisode Return: 17.0\tAverage Episode Return: 17.0\tEvaluator Episode Return: 9.75\n",
      "Episode: 60\tEpsilon: 0.6176666617393494\tEpisode Return: 12.0\tAverage Episode Return: 13.45\tEvaluator Episode Return: 9.125\n",
      "Episode: 70\tEpsilon: 0.5659999847412109\tEpisode Return: 17.0\tAverage Episode Return: 14.2\tEvaluator Episode Return: 9.625\n",
      "Episode: 80\tEpsilon: 0.515999972820282\tEpisode Return: 19.0\tAverage Episode Return: 15.25\tEvaluator Episode Return: 9.375\n",
      "Episode: 90\tEpsilon: 0.46666666865348816\tEpisode Return: 16.0\tAverage Episode Return: 14.9\tEvaluator Episode Return: 9.125\n",
      "Episode: 100\tEpsilon: 0.42500001192092896\tEpisode Return: 21.0\tAverage Episode Return: 13.65\tEvaluator Episode Return: 9.0\n",
      "Episode: 110\tEpsilon: 0.38466668128967285\tEpisode Return: 11.0\tAverage Episode Return: 12.3\tEvaluator Episode Return: 9.125\n",
      "Episode: 120\tEpsilon: 0.3440000116825104\tEpisode Return: 11.0\tAverage Episode Return: 12.15\tEvaluator Episode Return: 9.375\n",
      "Episode: 130\tEpsilon: 0.3036666810512543\tEpisode Return: 13.0\tAverage Episode Return: 12.15\tEvaluator Episode Return: 9.375\n",
      "Episode: 140\tEpsilon: 0.26466667652130127\tEpisode Return: 16.0\tAverage Episode Return: 11.9\tEvaluator Episode Return: 9.125\n",
      "Episode: 150\tEpsilon: 0.23066666722297668\tEpisode Return: 12.0\tAverage Episode Return: 10.95\tEvaluator Episode Return: 9.375\n",
      "Episode: 160\tEpsilon: 0.1940000057220459\tEpisode Return: 10.0\tAverage Episode Return: 10.6\tEvaluator Episode Return: 9.625\n",
      "Episode: 170\tEpsilon: 0.15966667234897614\tEpisode Return: 9.0\tAverage Episode Return: 10.65\tEvaluator Episode Return: 9.5\n",
      "Episode: 180\tEpsilon: 0.12533333897590637\tEpisode Return: 11.0\tAverage Episode Return: 10.3\tEvaluator Episode Return: 9.125\n",
      "Episode: 190\tEpsilon: 0.10000000149011612\tEpisode Return: 10.0\tAverage Episode Return: 10.3\tEvaluator Episode Return: 9.25\n",
      "Episode: 200\tEpsilon: 0.10000000149011612\tEpisode Return: 11.0\tAverage Episode Return: 10.0\tEvaluator Episode Return: 9.25\n",
      "Episode: 210\tEpsilon: 0.10000000149011612\tEpisode Return: 9.0\tAverage Episode Return: 9.75\tEvaluator Episode Return: 9.75\n",
      "Episode: 220\tEpsilon: 0.10000000149011612\tEpisode Return: 10.0\tAverage Episode Return: 10.1\tEvaluator Episode Return: 9.375\n",
      "Episode: 230\tEpsilon: 0.10000000149011612\tEpisode Return: 9.0\tAverage Episode Return: 10.55\tEvaluator Episode Return: 9.375\n",
      "Episode: 240\tEpsilon: 0.10000000149011612\tEpisode Return: 12.0\tAverage Episode Return: 10.7\tEvaluator Episode Return: 9.625\n",
      "Episode: 250\tEpsilon: 0.10000000149011612\tEpisode Return: 9.0\tAverage Episode Return: 10.45\tEvaluator Episode Return: 9.375\n",
      "Episode: 260\tEpsilon: 0.10000000149011612\tEpisode Return: 9.0\tAverage Episode Return: 10.05\tEvaluator Episode Return: 9.5\n",
      "Episode: 270\tEpsilon: 0.10000000149011612\tEpisode Return: 11.0\tAverage Episode Return: 10.15\tEvaluator Episode Return: 10.125\n",
      "Episode: 280\tEpsilon: 0.10000000149011612\tEpisode Return: 9.0\tAverage Episode Return: 10.0\tEvaluator Episode Return: 9.375\n",
      "Episode: 290\tEpsilon: 0.10000000149011612\tEpisode Return: 11.0\tAverage Episode Return: 9.3\tEvaluator Episode Return: 9.25\n",
      "Episode: 300\tEpsilon: 0.10000000149011612\tEpisode Return: 10.0\tAverage Episode Return: 9.65\tEvaluator Episode Return: 9.5\n",
      "Episode: 310\tEpsilon: 0.10000000149011612\tEpisode Return: 8.0\tAverage Episode Return: 9.8\tEvaluator Episode Return: 9.75\n",
      "Episode: 320\tEpsilon: 0.10000000149011612\tEpisode Return: 9.0\tAverage Episode Return: 9.35\tEvaluator Episode Return: 9.5\n",
      "Episode: 330\tEpsilon: 0.10000000149011612\tEpisode Return: 9.0\tAverage Episode Return: 9.35\tEvaluator Episode Return: 9.625\n",
      "Episode: 340\tEpsilon: 0.10000000149011612\tEpisode Return: 13.0\tAverage Episode Return: 9.6\tEvaluator Episode Return: 9.375\n",
      "Episode: 350\tEpsilon: 0.10000000149011612\tEpisode Return: 10.0\tAverage Episode Return: 10.0\tEvaluator Episode Return: 9.125\n",
      "Episode: 360\tEpsilon: 0.10000000149011612\tEpisode Return: 11.0\tAverage Episode Return: 9.9\tEvaluator Episode Return: 9.375\n",
      "Episode: 370\tEpsilon: 0.10000000149011612\tEpisode Return: 10.0\tAverage Episode Return: 9.85\tEvaluator Episode Return: 9.875\n",
      "Episode: 380\tEpsilon: 0.10000000149011612\tEpisode Return: 14.0\tAverage Episode Return: 10.2\tEvaluator Episode Return: 9.375\n",
      "Episode: 390\tEpsilon: 0.10000000149011612\tEpisode Return: 10.0\tAverage Episode Return: 10.5\tEvaluator Episode Return: 9.25\n",
      "Episode: 400\tEpsilon: 0.10000000149011612\tEpisode Return: 9.0\tAverage Episode Return: 17.5\tEvaluator Episode Return: 8.875\n",
      "Episode: 410\tEpsilon: 0.10000000149011612\tEpisode Return: 40.0\tAverage Episode Return: 24.85\tEvaluator Episode Return: 57.125\n",
      "Episode: 420\tEpsilon: 0.10000000149011612\tEpisode Return: 38.0\tAverage Episode Return: 36.85\tEvaluator Episode Return: 58.875\n",
      "Episode: 430\tEpsilon: 0.10000000149011612\tEpisode Return: 58.0\tAverage Episode Return: 65.35\tEvaluator Episode Return: 51.625\n",
      "Episode: 440\tEpsilon: 0.10000000149011612\tEpisode Return: 71.0\tAverage Episode Return: 67.4\tEvaluator Episode Return: 52.5\n",
      "Episode: 450\tEpsilon: 0.10000000149011612\tEpisode Return: 71.0\tAverage Episode Return: 54.55\tEvaluator Episode Return: 61.75\n",
      "Episode: 460\tEpsilon: 0.10000000149011612\tEpisode Return: 68.0\tAverage Episode Return: 66.85\tEvaluator Episode Return: 64.875\n",
      "Episode: 470\tEpsilon: 0.10000000149011612\tEpisode Return: 48.0\tAverage Episode Return: 67.95\tEvaluator Episode Return: 60.125\n",
      "Episode: 480\tEpsilon: 0.10000000149011612\tEpisode Return: 41.0\tAverage Episode Return: 57.45\tEvaluator Episode Return: 50.25\n",
      "Episode: 490\tEpsilon: 0.10000000149011612\tEpisode Return: 79.0\tAverage Episode Return: 65.9\tEvaluator Episode Return: 66.375\n",
      "Episode: 500\tEpsilon: 0.10000000149011612\tEpisode Return: 161.0\tAverage Episode Return: 80.75\tEvaluator Episode Return: 60.625\n",
      "Episode: 510\tEpsilon: 0.10000000149011612\tEpisode Return: 142.0\tAverage Episode Return: 98.1\tEvaluator Episode Return: 145.875\n",
      "Episode: 520\tEpsilon: 0.10000000149011612\tEpisode Return: 384.0\tAverage Episode Return: 141.7\tEvaluator Episode Return: 416.125\n",
      "Episode: 530\tEpsilon: 0.10000000149011612\tEpisode Return: 183.0\tAverage Episode Return: 187.95\tEvaluator Episode Return: 265.0\n",
      "Episode: 540\tEpsilon: 0.10000000149011612\tEpisode Return: 214.0\tAverage Episode Return: 242.3\tEvaluator Episode Return: 371.875\n",
      "Episode: 550\tEpsilon: 0.10000000149011612\tEpisode Return: 170.0\tAverage Episode Return: 268.45\tEvaluator Episode Return: 163.875\n",
      "Episode: 560\tEpsilon: 0.10000000149011612\tEpisode Return: 126.0\tAverage Episode Return: 200.0\tEvaluator Episode Return: 162.375\n",
      "Episode: 570\tEpsilon: 0.10000000149011612\tEpisode Return: 148.0\tAverage Episode Return: 162.7\tEvaluator Episode Return: 159.25\n",
      "Episode: 580\tEpsilon: 0.10000000149011612\tEpisode Return: 142.0\tAverage Episode Return: 175.8\tEvaluator Episode Return: 190.75\n",
      "Episode: 590\tEpsilon: 0.10000000149011612\tEpisode Return: 118.0\tAverage Episode Return: 161.9\tEvaluator Episode Return: 179.25\n",
      "Episode: 600\tEpsilon: 0.10000000149011612\tEpisode Return: 202.0\tAverage Episode Return: 153.1\tEvaluator Episode Return: 159.75\n",
      "Episode: 610\tEpsilon: 0.10000000149011612\tEpisode Return: 141.0\tAverage Episode Return: 151.05\tEvaluator Episode Return: 156.625\n",
      "Episode: 620\tEpsilon: 0.10000000149011612\tEpisode Return: 75.0\tAverage Episode Return: 136.7\tEvaluator Episode Return: 140.625\n",
      "Episode: 630\tEpsilon: 0.10000000149011612\tEpisode Return: 56.0\tAverage Episode Return: 107.7\tEvaluator Episode Return: 111.875\n",
      "Episode: 640\tEpsilon: 0.10000000149011612\tEpisode Return: 126.0\tAverage Episode Return: 92.05\tEvaluator Episode Return: 142.25\n",
      "Episode: 650\tEpsilon: 0.10000000149011612\tEpisode Return: 139.0\tAverage Episode Return: 98.15\tEvaluator Episode Return: 136.125\n",
      "Episode: 660\tEpsilon: 0.10000000149011612\tEpisode Return: 156.0\tAverage Episode Return: 122.15\tEvaluator Episode Return: 163.0\n",
      "Episode: 670\tEpsilon: 0.10000000149011612\tEpisode Return: 210.0\tAverage Episode Return: 154.85\tEvaluator Episode Return: 190.0\n",
      "Episode: 680\tEpsilon: 0.10000000149011612\tEpisode Return: 117.0\tAverage Episode Return: 169.2\tEvaluator Episode Return: 178.75\n",
      "Episode: 690\tEpsilon: 0.10000000149011612\tEpisode Return: 303.0\tAverage Episode Return: 187.6\tEvaluator Episode Return: 292.0\n",
      "Episode: 700\tEpsilon: 0.10000000149011612\tEpisode Return: 190.0\tAverage Episode Return: 236.1\tEvaluator Episode Return: 202.75\n",
      "Episode: 710\tEpsilon: 0.10000000149011612\tEpisode Return: 500.0\tAverage Episode Return: 297.4\tEvaluator Episode Return: 461.125\n",
      "Episode: 720\tEpsilon: 0.10000000149011612\tEpisode Return: 500.0\tAverage Episode Return: 413.85\tEvaluator Episode Return: 500.0\n",
      "Episode: 730\tEpsilon: 0.10000000149011612\tEpisode Return: 500.0\tAverage Episode Return: 500.0\tEvaluator Episode Return: 500.0\n",
      "Episode: 740\tEpsilon: 0.10000000149011612\tEpisode Return: 500.0\tAverage Episode Return: 500.0\tEvaluator Episode Return: 500.0\n",
      "Episode: 750\tEpsilon: 0.10000000149011612\tEpisode Return: 500.0\tAverage Episode Return: 500.0\tEvaluator Episode Return: 500.0\n",
      "Episode: 760\tEpsilon: 0.10000000149011612\tEpisode Return: 500.0\tAverage Episode Return: 500.0\tEvaluator Episode Return: 500.0\n",
      "Episode: 770\tEpsilon: 0.10000000149011612\tEpisode Return: 500.0\tAverage Episode Return: 500.0\tEvaluator Episode Return: 500.0\n",
      "Episode: 780\tEpsilon: 0.10000000149011612\tEpisode Return: 500.0\tAverage Episode Return: 416.3\tEvaluator Episode Return: 500.0\n",
      "Episode: 790\tEpsilon: 0.10000000149011612\tEpisode Return: 500.0\tAverage Episode Return: 416.3\tEvaluator Episode Return: 500.0\n",
      "Episode: 800\tEpsilon: 0.10000000149011612\tEpisode Return: 500.0\tAverage Episode Return: 500.0\tEvaluator Episode Return: 500.0\n",
      "Episode: 810\tEpsilon: 0.10000000149011612\tEpisode Return: 500.0\tAverage Episode Return: 500.0\tEvaluator Episode Return: 500.0\n",
      "Episode: 820\tEpsilon: 0.10000000149011612\tEpisode Return: 500.0\tAverage Episode Return: 500.0\tEvaluator Episode Return: 500.0\n",
      "Episode: 830\tEpsilon: 0.10000000149011612\tEpisode Return: 500.0\tAverage Episode Return: 500.0\tEvaluator Episode Return: 490.75\n",
      "Episode: 840\tEpsilon: 0.10000000149011612\tEpisode Return: 500.0\tAverage Episode Return: 499.75\tEvaluator Episode Return: 500.0\n",
      "Episode: 850\tEpsilon: 0.10000000149011612\tEpisode Return: 500.0\tAverage Episode Return: 499.75\tEvaluator Episode Return: 500.0\n",
      "Episode: 860\tEpsilon: 0.10000000149011612\tEpisode Return: 22.0\tAverage Episode Return: 452.1\tEvaluator Episode Return: 259.875\n",
      "Episode: 870\tEpsilon: 0.10000000149011612\tEpisode Return: 10.0\tAverage Episode Return: 292.05\tEvaluator Episode Return: 149.5\n",
      "Episode: 880\tEpsilon: 0.10000000149011612\tEpisode Return: 9.0\tAverage Episode Return: 130.95\tEvaluator Episode Return: 10.125\n",
      "Episode: 890\tEpsilon: 0.10000000149011612\tEpisode Return: 8.0\tAverage Episode Return: 46.45\tEvaluator Episode Return: 9.625\n",
      "Episode: 900\tEpsilon: 0.10000000149011612\tEpisode Return: 500.0\tAverage Episode Return: 206.6\tEvaluator Episode Return: 500.0\n",
      "Episode: 910\tEpsilon: 0.10000000149011612\tEpisode Return: 500.0\tAverage Episode Return: 451.15\tEvaluator Episode Return: 500.0\n",
      "Episode: 920\tEpsilon: 0.10000000149011612\tEpisode Return: 500.0\tAverage Episode Return: 492.4\tEvaluator Episode Return: 492.0\n",
      "Episode: 930\tEpsilon: 0.10000000149011612\tEpisode Return: 500.0\tAverage Episode Return: 492.4\tEvaluator Episode Return: 500.0\n",
      "Episode: 940\tEpsilon: 0.10000000149011612\tEpisode Return: 500.0\tAverage Episode Return: 500.0\tEvaluator Episode Return: 500.0\n",
      "Episode: 950\tEpsilon: 0.10000000149011612\tEpisode Return: 500.0\tAverage Episode Return: 500.0\tEvaluator Episode Return: 500.0\n",
      "Episode: 960\tEpsilon: 0.10000000149011612\tEpisode Return: 362.0\tAverage Episode Return: 488.6\tEvaluator Episode Return: 492.625\n",
      "Episode: 970\tEpsilon: 0.10000000149011612\tEpisode Return: 458.0\tAverage Episode Return: 443.65\tEvaluator Episode Return: 436.0\n",
      "Episode: 980\tEpsilon: 0.10000000149011612\tEpisode Return: 500.0\tAverage Episode Return: 425.6\tEvaluator Episode Return: 488.375\n",
      "Episode: 990\tEpsilon: 0.10000000149011612\tEpisode Return: 500.0\tAverage Episode Return: 470.55\tEvaluator Episode Return: 500.0\n",
      "Episode: 1000\tEpsilon: 0.10000000149011612\tEpisode Return: 500.0\tAverage Episode Return: 500.0\tEvaluator Episode Return: 500.0\n"
     ]
    },
    {
     "data": {
      "image/png": "[encoded data removed]",
      "text/plain": [
       "<Figure size 640x480 with 1 Axes>"
      ]
     },
     "metadata": {},
     "output_type": "display_data"
    }
   ],
   "source": [
    "# Run environment loop\n",
    "print(\"Starting training. This may take a few minutes to complete.\")\n",
    "episode_returns, evaluator_returns = run_training_loop(\n",
    "                                        env_name,\n",
    "                                        Q_LEARNING_PARAMS,\n",
    "                                        q_learning_select_action_jit,\n",
    "                                        Q_LEARNING_ACTOR_STATE,\n",
    "                                        q_learn_jit,\n",
    "                                        Q_LEARNING_LEARN_STATE,\n",
    "                                        Q_LEARNING_MEMORY,\n",
    "                                        num_episodes=1001,\n",
    "                                        train_every_timestep=True, # do learning after every timestep\n",
    "                                        video_subdir=\"q_learning\"\n",
    "                                    )\n",
    "\n",
    "plt.plot(episode_returns)\n",
    "plt.xlabel(\"Episodes\")\n",
    "plt.ylabel(\"Episode Return\")\n",
    "plt.title(\"Deep Q-Learning\")\n",
    "plt.show()"
   ]
  },
  {
   "cell_type": "markdown",
   "metadata": {
    "id": "2k0-41wbpFDE"
   },
   "source": [
    "At this stage, the approximated Q-function hopefully converged to a decent policy for balancing the pole in the CartPole problem."
   ]
  },
  {
   "cell_type": "code",
   "execution_count": 35,
   "metadata": {
    "colab": {
     "base_uri": "https://localhost:8080/",
     "height": 288
    },
    "id": "t4v0ZbB4FQUs",
    "outputId": "91c4704f-d9f1-4f2e-9e6d-d7d0f4cb1d7f"
   },
   "outputs": [
    {
     "data": {
      "text/html": [
       "\n",
       "<video width=400 controls>\n",
       "      <source src=\"data:video/mp4;base64,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\" type=\"video/mp4\">\n",
       "</video>\n"
      ],
      "text/plain": [
       "<IPython.core.display.HTML object>"
      ]
     },
     "execution_count": 35,
     "metadata": {},
     "output_type": "execute_result"
    }
   ],
   "source": [
    "#@title Visualise Policy\n",
    "#@markdown Choose an episode number that is a multiple of 100 and less than or equal to 1000, and **run this cell**.\n",
    "\n",
    "episode_number = 900 #@param {type:\"number\"}\n",
    "\n",
    "assert (episode_number % 100) == 0, \"Episode number must be a multiple of 100 since we only record every 100th episode.\"\n",
    "assert episode_number < 1001, \"Episode number must be less than or equal to 1000\"\n",
    "\n",
    "eval_episode_number = int(episode_number / 5 * 4)\n",
    "video_path = f\"./video/q_learning/eval/rl-video-episode-{eval_episode_number}.mp4\"\n",
    "\n",
    "mp4 = open(video_path,'rb').read()\n",
    "data_url = \"data:video/mp4;base64,\" + b64encode(mp4).decode()\n",
    "HTML(\"\"\"\n",
    "<video width=400 controls>\n",
    "      <source src=\"%s\" type=\"video/mp4\">\n",
    "</video>\n",
    "\"\"\" % data_url)"
   ]
  },
  {
   "cell_type": "markdown",
   "metadata": {
    "id": "CIIteLdFwG4B"
   },
   "source": [
    "For the original research paper where DQN was first introduced, see here: [Playing Atari with Deep Reinforcement Learning](https://arxiv.org/abs/1312.5602). If you are interested, give the paper a read!"
   ]
  },
  {
   "cell_type": "code",
   "execution_count": 31,
   "metadata": {
    "id": "_F_hhyvrRa9V"
   },
   "outputs": [],
   "source": []
  }
 ],
 "metadata": {
  "colab": {
   "provenance": []
  },
  "kernelspec": {
   "display_name": "Python 3",
   "name": "python3"
  },
  "language_info": {
   "codemirror_mode": {
    "name": "ipython",
    "version": 3
   },
   "file_extension": ".py",
   "mimetype": "text/x-python",
   "name": "python",
   "nbconvert_exporter": "python",
   "pygments_lexer": "ipython3",
   "version": "3.8.13"
  },
  "vscode": {
   "interpreter": {
    "hash": "0f35138c66f99be0fd7a1210bb4aa94a6fbaa5f29d51ad43aec0e0ea0ff050f0"
   }
  }
 },
 "nbformat": 4,
 "nbformat_minor": 0
}
